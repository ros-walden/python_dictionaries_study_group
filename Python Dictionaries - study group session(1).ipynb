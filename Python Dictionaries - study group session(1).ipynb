{
 "cells": [
  {
   "cell_type": "code",
   "execution_count": 25,
   "metadata": {},
   "outputs": [],
   "source": [
    "import random"
   ]
  },
  {
   "cell_type": "code",
   "execution_count": 23,
   "metadata": {},
   "outputs": [],
   "source": [
    "fruit_dictionary = {'apple': 'manzana', \n",
    "'banana': 'plátano', \n",
    "'pear' : 'pera', \n",
    "'orange': 'naranja', \n",
    "'pineapple': 'piña', \n",
    "'mango': 'mango', \n",
    "'grapefruit': 'pomelo', \n",
    "'kiwi' : 'kiwi', \n",
    "'grapes' : 'Uvas', \n",
    "'strawberries' : 'Fresas',\n",
    "'raspberries' : 'Frambuesas', \n",
    "'melon': 'melón'}\n",
    "\n",
    "#language vocabulary game to write english/spanish equivalent if given a randomly chosen word\n",
    "#input\n",
    "#separate into one long list - pick word at random\n",
    "\n",
    "vocab_list_eng = list(fruit_dictionary)\n",
    "vocab_list_spanish = list(fruit_dictionary.values())\n"
   ]
  },
  {
   "cell_type": "code",
   "execution_count": 24,
   "metadata": {},
   "outputs": [
    {
     "data": {
      "text/plain": [
       "['manzana',\n",
       " 'plátano',\n",
       " 'pera',\n",
       " 'naranja',\n",
       " 'piña',\n",
       " 'mango',\n",
       " 'pomelo',\n",
       " 'kiwi',\n",
       " 'Uvas',\n",
       " 'Fresas',\n",
       " 'Frambuesas',\n",
       " 'melón']"
      ]
     },
     "execution_count": 24,
     "metadata": {},
     "output_type": "execute_result"
    }
   ],
   "source": [
    "vocab_list_spanish"
   ]
  },
  {
   "cell_type": "code",
   "execution_count": null,
   "metadata": {},
   "outputs": [
    {
     "name": "stdout",
     "output_type": "stream",
     "text": [
      "Do you want to play this game? y/ny\n"
     ]
    }
   ],
   "source": [
    "rand_word = random.choice(vocab_list_spanish)\n",
    "game_prompt = input('Do you want to play this game? y/n')\n",
    "if game_prompt == 'y':\n",
    "    correct = False \n",
    "    while correct == False:\n",
    "        guess = input(f'this is your word: {rand_word}. What is its English equivalent?')\n",
    "        if guess in fruit_dictionary:\n",
    "            if rand_word == fruit_dictionary[guess]:\n",
    "                print('Correct!')\n",
    "                correct = True\n",
    "                input('Would you like to play again? y/n')\n",
    "            else:\n",
    "                print('Wrong:(')\n",
    "        else:\n",
    "            print('Wrong:(')"
   ]
  },
  {
   "cell_type": "code",
   "execution_count": null,
   "metadata": {},
   "outputs": [],
   "source": []
  }
 ],
 "metadata": {
  "kernelspec": {
   "display_name": "Python 3",
   "language": "python",
   "name": "python3"
  },
  "language_info": {
   "codemirror_mode": {
    "name": "ipython",
    "version": 3
   },
   "file_extension": ".py",
   "mimetype": "text/x-python",
   "name": "python",
   "nbconvert_exporter": "python",
   "pygments_lexer": "ipython3",
   "version": "3.6.5"
  }
 },
 "nbformat": 4,
 "nbformat_minor": 2
}
